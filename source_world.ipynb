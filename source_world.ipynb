{
 "cells": [
  {
   "cell_type": "code",
   "execution_count": null,
   "metadata": {},
   "outputs": [],
   "source": []
  },
  {
   "cell_type": "code",
   "execution_count": null,
   "metadata": {},
   "outputs": [],
   "source": [
    "class nengoSource(object): \n",
    "    def __init__(self,x,y,heading,\n",
    "                acceleration=0.2,\n",
    "                drag=0.5)\n",
    "    self.heading=heading\n",
    "    self.velocity=[0,0]\n",
    "    self.acceleration=acceleration\n",
    "    self.drag=drag\n",
    "    self.x=x\n",
    "    self.y=y \n",
    "    \n",
    "    def make_sensor(self):\n",
    "        self.last_update = -9999\n",
    "        update_rate = self.plume_dt\n",
    "        dt = self.plume_dt\n",
    "        def update(t):\n",
    "            if t >= self.last_update + update_rate:\n",
    "                self.last_update = t\n",
    "                self.wind_model.update(dt)\n",
    "                self.plume_model.update(dt)\n",
    "                self.conc = self.array_gen.generate_single_array(self.plume_model.puff_array)    \n",
    "                \n",
    "            lx, ly, rx, ry = self.sensor_pos()\n",
    "            lx, ly = self.grid_location(lx, ly)\n",
    "            rx, ry = self.grid_location(rx, ry)\n",
    "            lx = int(lx)\n",
    "            rx = int(rx)\n",
    "            ly = int(ly)\n",
    "            ry = int(ry)\n",
    "            if 0 <= lx < self.grid_size[0] and 0 <= ly < self.grid_size[1]:\n",
    "                lc = self.conc[lx, ly]\n",
    "            else:\n",
    "                lc = 0\n",
    "            if 0 <= rx < self.grid_size[0] and 0 <= ry < self.grid_size[1]:\n",
    "                rc = self.conc[rx, ry]\n",
    "            else:\n",
    "                rc = 0\n",
    "            \n",
    "            return (np.clip(lc/self.max_concentration, 0, 1), \n",
    "                    np.clip(rc/self.max_concentration, 0, 1))\n",
    "        return nengo.Node(update)"
   ]
  }
 ],
 "metadata": {
  "kernelspec": {
   "display_name": "Python 3",
   "language": "python",
   "name": "python3"
  },
  "language_info": {
   "codemirror_mode": {
    "name": "ipython",
    "version": 3
   },
   "file_extension": ".py",
   "mimetype": "text/x-python",
   "name": "python",
   "nbconvert_exporter": "python",
   "pygments_lexer": "ipython3",
   "version": "3.7.3"
  }
 },
 "nbformat": 4,
 "nbformat_minor": 4
}
