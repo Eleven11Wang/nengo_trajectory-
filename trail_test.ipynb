{
 "cells": [
  {
   "cell_type": "code",
   "execution_count": 1,
   "metadata": {},
   "outputs": [],
   "source": [
    "import sys \n",
    "if \".\" not in sys.path: \n",
    "    sys.path.append(\".\")\n",
    "\n",
    "import source_world\n",
    "import moth_brain_nengo\n",
    "import moth_brain_nengo_new\n",
    "import moth_brain_nengo_GIIC\n",
    "import nengo\n",
    "import pytry\n",
    "import numpy as np\n",
    "\n",
    "import matplotlib.pyplot as plt \n",
    "import scipy.ndimage.filters"
   ]
  },
  {
   "cell_type": "code",
   "execution_count": 2,
   "metadata": {},
   "outputs": [],
   "source": [
    "class SimulationFail(Exception):\n",
    "    pass\n",
    "class SimulationSuccess(Exception):\n",
    "    pass"
   ]
  },
  {
   "cell_type": "code",
   "execution_count": 3,
   "metadata": {},
   "outputs": [],
   "source": [
    "pos_ls=[]"
   ]
  },
  {
   "cell_type": "code",
   "execution_count": 4,
   "metadata": {},
   "outputs": [
    {
     "name": "stderr",
     "output_type": "stream",
     "text": [
      "/Users/wangjiahui/Library/Python/3.7/lib/python/site-packages/nengo/cache.py:613: UserWarning: Decoder cache could not acquire lock and was deactivated.\n",
      "  warnings.warn(\"Decoder cache could not acquire lock and was deactivated.\")\n"
     ]
    },
    {
     "data": {
      "application/vdom.v1+json": {
       "attributes": {},
       "tagName": "div"
      },
      "text/html": [
       "\n",
       "                <script>\n",
       "                    if (Jupyter.version.split(\".\")[0] < 5) {\n",
       "                        var pb = document.getElementById(\"1e67c2be-4d0a-4f29-8ac7-b84084967161\");\n",
       "                        var text = document.createTextNode(\n",
       "                            \"HMTL progress bar requires Jupyter Notebook >= \" +\n",
       "                            \"5.0 or Jupyter Lab. Alternatively, you can use \" +\n",
       "                            \"TerminalProgressBar().\");\n",
       "                        pb.parentNode.insertBefore(text, pb);\n",
       "                    }\n",
       "                </script>\n",
       "                <div id=\"1e67c2be-4d0a-4f29-8ac7-b84084967161\" style=\"\n",
       "                    width: 100%;\n",
       "                    border: 1px solid #cfcfcf;\n",
       "                    border-radius: 4px;\n",
       "                    text-align: center;\n",
       "                    position: relative;\">\n",
       "                  <div class=\"pb-text\" style=\"\n",
       "                      position: absolute;\n",
       "                      width: 100%;\">\n",
       "                    0%\n",
       "                  </div>\n",
       "                  <div class=\"pb-fill\" style=\"\n",
       "                      background-color: #bdd2e6;\n",
       "                      width: 0%;\">\n",
       "                    <style type=\"text/css\" scoped=\"scoped\">\n",
       "                        @keyframes pb-fill-anim {\n",
       "                            0% { background-position: 0 0; }\n",
       "                            100% { background-position: 100px 0; }\n",
       "                        }\n",
       "                    </style>\n",
       "                    &nbsp;\n",
       "                  </div>\n",
       "                </div>"
      ],
      "text/plain": [
       "HtmlProgressBar cannot be displayed. Please use the TerminalProgressBar. It can be enabled with `nengo.rc['progress']['progress_bar'] = 'nengo.utils.progress.TerminalProgressBar'`."
      ]
     },
     "metadata": {},
     "output_type": "display_data"
    },
    {
     "data": {
      "application/vdom.v1+json": {
       "attributes": {
        "id": "87c81d53-0a34-44d6-b0c5-b6f76d6c2bce",
        "style": {
         "border": "1px solid #cfcfcf",
         "borderRadius": "4px",
         "boxSizing": "border-box",
         "position": "relative",
         "textAlign": "center",
         "width": "100%"
        }
       },
       "children": [
        {
         "attributes": {
          "class": "pb-text",
          "style": {
           "position": "absolute",
           "width": "100%"
          }
         },
         "children": [
          "Simulation finished in 0:00:05."
         ],
         "tagName": "div"
        },
        {
         "attributes": {
          "class": "pb-fill",
          "style": {
           "animation": "none",
           "backgroundColor": "#bdd2e6",
           "backgroundImage": "none",
           "transition": "width 0.1s linear",
           "width": "36%"
          }
         },
         "children": [
          {
           "attributes": {
            "scoped": "scoped",
            "type": "text/css"
           },
           "children": [
            "\n                        @keyframes pb-fill-anim {\n                            0% { background-position: 0 0; }\n                            100% { background-position: 100px 0; }\n                        }}"
           ],
           "tagName": "style"
          },
          " "
         ],
         "tagName": "div"
        }
       ],
       "tagName": "div"
      },
      "text/html": [
       "<script>\n",
       "              (function () {\n",
       "                  var root = document.getElementById('1e67c2be-4d0a-4f29-8ac7-b84084967161');\n",
       "                  var text = root.getElementsByClassName('pb-text')[0];\n",
       "                  var fill = root.getElementsByClassName('pb-fill')[0];\n",
       "\n",
       "                  text.innerHTML = 'Simulation finished in 0:00:05.';\n",
       "                  \n",
       "            if (36.285000000000004 > 0.) {\n",
       "                fill.style.transition = 'width 0.1s linear';\n",
       "            } else {\n",
       "                fill.style.transition = 'none';\n",
       "            }\n",
       "\n",
       "            fill.style.width = '36.285000000000004%';\n",
       "            fill.style.animation = 'none';\n",
       "            fill.style.backgroundImage = 'none'\n",
       "        \n",
       "                  \n",
       "                fill.style.animation = 'none';\n",
       "                fill.style.backgroundImage = 'none';\n",
       "            \n",
       "              })();\n",
       "        </script>"
      ]
     },
     "metadata": {},
     "output_type": "display_data"
    }
   ],
   "source": [
    "\n",
    "\n",
    "class parm(object):\n",
    "    def __init__(self,moveable_source=False,avoid_block=False,x=0,y=-1):\n",
    "        self.x=x\n",
    "        self.y=y\n",
    "        self.moveable_source=moveable_source\n",
    "        self.heading=0\n",
    "        self.avoid_block=avoid_block\n",
    "        self.min_x=-10\n",
    "        self.max_x=10\n",
    "        self.min_y=-10\n",
    "        self.max_y=10\n",
    "        self.source_x=-0\n",
    "        self.source_y=1\n",
    "        self.distance_array=[]\n",
    "        self.stop_distance=0.01\n",
    "        self.max_time=20\n",
    "\n",
    "\n",
    "p=parm(False,False) # change this for moveable source  and avoid block \n",
    "model = nengo.Network()\n",
    "with model:\n",
    "\n",
    "    world = source_world.nengoSource(x=p.x, y=p.y, heading=p.heading+np.pi,max_time=p.max_time)\n",
    "    if p.moveable_source:\n",
    "        source=world.make_source_move()\n",
    "    if p.avoid_block:\n",
    "        block=world.avoid_block()\n",
    "    sensor=world.make_sensor() \n",
    "    rotation=world.make_movement() \n",
    "    pos = world.make_position()\n",
    "    heading_and_vel = world.make_heading_and_velocity()\n",
    "\n",
    "\n",
    "    brain = moth_brain_nengo_new.MothBrainNengo(noise=0, inhib=0, N=100)\n",
    "    nengo.Connection(sensor[0], brain.inputR, transform=1, synapse=None)\n",
    "    nengo.Connection(sensor[1], brain.inputL, transform=1, synapse=None)\n",
    "    \n",
    "    \n",
    "    if p.avoid_block: \n",
    "        nengo.Connection(brain.turn, block, transform=10, synapse=None)\n",
    "        nengo.Connection(block, rotation,  transform = 1, synapse=None)\n",
    "    else:\n",
    "        nengo.Connection(brain.turn, rotation, transform=10, synapse=None)\n",
    "\n",
    "    def check_bounds(t):\n",
    "\n",
    "        if world.x < p.min_x or world.x > p.max_x:\n",
    "            raise SimulationFail()\n",
    "        if world.y < p.min_y or world.y > p.max_y:\n",
    "            raise SimulationFail()\n",
    "        delta = [world.x - world.source[0], world.y - world.source[1]]\n",
    "        distance=np.linalg.norm(delta)\n",
    "        p.distance_array.append(distance)\n",
    "        if p.moveable_source:\n",
    "            if abs(world.source[0]+1)< 0.01 and distance < p.stop_distance:\n",
    "                 raise SimulationSuccess()\n",
    "        else: \n",
    "            min(p.distance_array)\n",
    "            if distance < p.stop_distance:\n",
    "                raise SimulationSuccess()\n",
    "\n",
    "    nengo.Node(check_bounds)\n",
    "\n",
    "    p_pos = nengo.Probe(pos)\n",
    "    p_heading = nengo.Probe(heading_and_vel[0])\n",
    "    p_velocityx = nengo.Probe(heading_and_vel[1])\n",
    "    p_velocityy = nengo.Probe(heading_and_vel[2])\n",
    "    p_rotation = nengo.Probe(rotation,synapse=0.3)\n",
    "    p_sensor = nengo.Probe(sensor)\n",
    "    if p.moveable_source:\n",
    "        p_source=nengo.Probe(source)\n",
    "\n",
    "    input_left_probe = nengo.Probe(brain.inputL)\n",
    "    input_right_probe = nengo.Probe(brain.inputR)\n",
    "\n",
    "    PBN_left_probe = nengo.Probe(brain.PBN_l_slow, synapse=0.03)  # ,synapse=0.03\n",
    "    PBN_right_probe = nengo.Probe(brain.PBN_r_slow, synapse=0.03)  # ,synapse=0.03\n",
    "\n",
    "    FF_left_probe = nengo.Probe(brain.stateL, synapse=0.03)  # ,synapse=0.03)\n",
    "    FF_right_probe = nengo.Probe(brain.stateR, synapse=0.03)  # ,synapse=0.03)\n",
    "\n",
    "    GII_left_probe = nengo.Probe(brain.giia_l, synapse=0.03)\n",
    "    GII_right_probe = nengo.Probe(brain.giia_r, synapse=0.03)\n",
    "\n",
    "    turn_probe = nengo.Probe(brain.turn, synapse=0.03)  # )\n",
    "\n",
    "sim = nengo.Simulator(model, progress_bar=False)\n",
    "try:\n",
    "    sim.run(p.max_time, progress_bar=True)\n",
    "    success = False\n",
    "except SimulationSuccess:\n",
    "    success = True\n",
    "except SimulationFail:\n",
    "\n",
    "        success = False \n",
    "\n",
    "\n"
   ]
  },
  {
   "cell_type": "code",
   "execution_count": 5,
   "metadata": {},
   "outputs": [
    {
     "data": {
      "text/plain": [
       "True"
      ]
     },
     "execution_count": 5,
     "metadata": {},
     "output_type": "execute_result"
    }
   ],
   "source": [
    "success"
   ]
  },
  {
   "cell_type": "code",
   "execution_count": 11,
   "metadata": {},
   "outputs": [],
   "source": [
    "# nx=500\n",
    "# dt=0.001\n",
    "# figure=plt.figure(figsize=(10,10))\n",
    "# ax = plt.subplot(1,2,1)\n",
    "# ax.scatter(p.x,p.y,marker=\"x\")\n",
    "# ax.scatter(p.source_x,p.source_y)\n",
    "\n",
    "# xy = sim.data[p_pos]\n",
    "#ax.plot(xy[:,0], xy[:,1],label=\"trace\")\n",
    "\n",
    "if success:\n",
    "    f=open(\"pos_ls_x.txt\", \"a+\")\n",
    "\n",
    "    f.write(', '.join(map(str, xy[:,0]))+'\\n')\n",
    "\n",
    "\n",
    "    f.close()\n",
    "    f=open(\"pos_ls_y.txt\", \"a+\")\n",
    "    f.write(', '.join(map(str, xy[:,1]))+'\\n')\n",
    "    f.close()\n",
    "    \n"
   ]
  },
  {
   "cell_type": "code",
   "execution_count": null,
   "metadata": {},
   "outputs": [],
   "source": []
  },
  {
   "cell_type": "code",
   "execution_count": null,
   "metadata": {},
   "outputs": [],
   "source": [
    "\n",
    "\n",
    "    "
   ]
  },
  {
   "cell_type": "code",
   "execution_count": 12,
   "metadata": {},
   "outputs": [],
   "source": [
    "\n",
    "# plt.figure(figsize=(10,6))\n",
    "# plt.subplot(4, 1, 1)\n",
    "# plt.plot(sim.trange(), sim.data[input_left_probe], label=\"left probe\")\n",
    "# plt.plot(sim.trange(),sim.data[input_right_probe], label=\"right_probe\")\n",
    "# plt.title(\"input\")\n",
    "\n",
    "\n",
    "# plt.legend()\n",
    "# plt.subplot(8, 1, 2)\n",
    "# plt.plot(sim.trange(), sim.data[PBN_left_probe], label=\"left probe\")\n",
    "# plt.plot(sim.trange(), sim.data[PBN_right_probe], label=\"right_probe\")\n",
    "# plt.title(\"PBN\")\n",
    "\n",
    "# plt.subplot(4, 1, 2)\n",
    "# plt.plot(sim.trange(), sim.data[FF_left_probe][:, 0], label=\"left probe\")\n",
    "# plt.plot(sim.trange(), sim.data[FF_right_probe][:, 0], label=\"right_probe\")\n",
    "# plt.title(\"FF\")\n",
    "\n",
    "# # plt.subplot(8, 1, 4)\n",
    "# # plt.plot(sim.trange(), sim.data[GII_left_probe], label=\"left probe\")\n",
    "# # plt.plot(sim.trange(), sim.data[GII_right_probe], label=\"right_probe\")\n",
    "\n",
    "# #plt.title(\"GIIA\")\n",
    "# plt.subplot(4, 1, 3)\n",
    "# plt.plot(sim.trange(), sim.data[turn_probe][:, 0], label=\"turn probe\")\n",
    "# plt.ylim([-1.1, 1.1])\n",
    "# plt.title(\"motor\")\n",
    "\n",
    "\n",
    "# plt.subplot(4, 1, 4)\n",
    "# plt.plot(sim.trange(), sim.data[p_rotation], label=\"rotation\")\n",
    "# plt.legend()\n",
    "# plt.title(\"rotation\")\n",
    "\n",
    "\n",
    "# # plt.subplot(4, 1, 4)\n",
    "# # plt.plot(sim.trange(), sim.data[p_heading]/np.pi, label=\"heading\")\n",
    "# # plt.ylabel(\"angle : PI\")\n",
    "# # #plt.ylim([-3.15,3.15])\n",
    "# # plt.legend()\n",
    "# # plt.title(\"heading\")\n",
    "\n",
    "\n",
    "# # plt.subplot(4, 1, 4)\n",
    "# # plt.plot(sim.trange(), sim.data[p_velocityx], label=\"v_locityx\")\n",
    "# # plt.plot(sim.trange(), sim.data[p_velocityy], label=\"v_locityy\")\n",
    "# # plt.legend()\n",
    "# # plt.title(\"velocity\")\n",
    "\n",
    "\n",
    "\n",
    "# plt.tight_layout()\n",
    "# plt.show()\n",
    "\n",
    "        "
   ]
  },
  {
   "cell_type": "code",
   "execution_count": 8,
   "metadata": {},
   "outputs": [],
   "source": [
    "if p.moveable_source:\n",
    "    plt.plot(sim.trange(), sim.data[p_source][:,1], label=\"y\")\n",
    "    plt.plot(sim.trange(), sim.data[p_source][:, 0], label=\"x\")\n",
    "    plt.legend()\n",
    "    plt.title(\"input\")"
   ]
  },
  {
   "cell_type": "code",
   "execution_count": 13,
   "metadata": {},
   "outputs": [],
   "source": [
    "\n",
    "# nx=500\n",
    "# dt=0.001\n",
    "# figure=plt.figure(figsize=(12,8))\n",
    "# ax = plt.subplot(1,2,1)\n",
    "\n",
    "\n",
    "# ax.scatter(p.x, p.y, marker='x',s=200,color=\"red\")\n",
    "# xy = sim.data[p_pos]\n",
    "# ax.plot(xy[:,0], xy[:,1],label=\"trace\")\n",
    "# xy = sim.data[p_pos]\n",
    "\n",
    "# print(p.source_x,p.source_y)\n",
    "# if p.moveable_source:\n",
    "#     ax.plot(sim.data[p_source][:, 0],sim.data[p_source][:, 1],label=\"source movement\",color=\"green\")\n",
    "#     ax.scatter(sim.data[p_source][:, 0][-1],sim.data[p_source][:, 1][-1],marker=\"o\",color=\"m\",label=\"source end\",s=200)\n",
    "# ax.scatter(p.source_x,p.source_y,marker=\"o\",color=\"orange\",label=\"source start\",s=200)\n",
    "# ax.plot([0],[0], marker=\"s\",color=\"k\")\n",
    "# ax.set_xlim(p.min_x, p.max_x)\n",
    "# ax.set_ylim(p.min_y, p.max_y)\n",
    "# plt.legend()\n",
    "\n",
    "# ax2=plt.subplot(1,2,2)\n",
    "# heading = sim.data[p_heading][:,0]\n",
    "# heading_s = scipy.ndimage.filters.gaussian_filter(heading, sigma=0.5/dt)\n",
    "# rotation_rate = np.diff(heading_s) * 180 / np.pi / dt\n",
    "# turn_start = []\n",
    "# turn_end = []\n",
    "# turn_angle = []\n",
    "# turn_duration = []\n",
    "# turn_velocity = []\n",
    "\n",
    "# turning = (rotation_rate > 5) | (rotation_rate<-5)\n",
    "# for i in np.where(np.diff(turning.astype(int))==1)[0]:\n",
    "#     ends = np.where(turning[i+1:]==0)[0]\n",
    "#     if len(ends) == 0:\n",
    "#         j = len(turning)\n",
    "#     else:\n",
    "#         j = i+ends[0]\n",
    "\n",
    "#     if j > i + 500:  # must be 0.5s turn\n",
    "#         d_heading = (heading_s[j] - heading_s[i])*180 / np.pi\n",
    "#         if np.abs(d_heading) > 30:\n",
    "#             turn_start.append(i*dt)\n",
    "#             turn_end.append(j*dt)\n",
    "#             turn_angle.append(d_heading)\n",
    "#             turn_duration.append((j-i)*dt)\n",
    "#             turn_velocity.append(turn_angle[-1]/turn_duration[-1])\n",
    "# turn_duration = np.array(turn_duration)\n",
    "# turn_angle = np.array(turn_angle)\n",
    "# turn_velocity = np.array(turn_velocity)\n",
    "# turn_start = np.array(turn_start)\n",
    "# turn_end = np.array(turn_end)\n",
    "\n",
    "# heading = sim.data[p_heading][:,0]\n",
    "# heading_s = scipy.ndimage.filters.gaussian_filter(heading, sigma=0.5/dt)\n",
    "# rotation_rate = np.diff(heading_s) * 180 / np.pi / dt\n",
    "\n",
    "# t = np.arange(len(rotation_rate))*dt\n",
    "# ax2.plot(t, rotation_rate)\n",
    "# ax2.axhline(5, ls='--')\n",
    "# ax2.axhline(-5, ls='--')\n",
    "# for i in range(len(turn_start)):\n",
    "#     ax2.axvline(turn_start[i], c='k')\n",
    "#     ax2.axvline(turn_end[i], c='k')\n",
    "#     ax2.plot([turn_start[i], turn_end[i]], [turn_velocity[i], turn_velocity[i]], c='k')\n",
    "# ax2.set_ylabel('rotation rate (deg/sec)')"
   ]
  },
  {
   "cell_type": "markdown",
   "metadata": {},
   "source": [
    "figure=plt.figure(figsize=(8,4))\n",
    "ax = plt.subplot(2,1,1)\n",
    "ax.plot(sim.trange(),xy[:,0],label=\"agent_x_pos\")\n",
    "ax.plot(sim.trange(),sim.data[p_source][:, 0],label=\"x_pos_of_source\")\n",
    "plt.legend()\n",
    "ax2=plt.subplot(2,1,2)\n",
    "ax2.plot(sim.trange(),xy[:,1],label=\"agent_y_pos\")\n",
    "ax2.plot(sim.trange(),sim.data[p_source][:, 1],label=\"y_pos_of_source\")\n",
    "plt.legend()\n",
    "plt.plot()"
   ]
  },
  {
   "cell_type": "code",
   "execution_count": null,
   "metadata": {},
   "outputs": [],
   "source": []
  },
  {
   "cell_type": "code",
   "execution_count": null,
   "metadata": {},
   "outputs": [],
   "source": []
  }
 ],
 "metadata": {
  "kernelspec": {
   "display_name": "Python 3",
   "language": "python",
   "name": "python3"
  },
  "language_info": {
   "codemirror_mode": {
    "name": "ipython",
    "version": 3
   },
   "file_extension": ".py",
   "mimetype": "text/x-python",
   "name": "python",
   "nbconvert_exporter": "python",
   "pygments_lexer": "ipython3",
   "version": "3.7.3"
  }
 },
 "nbformat": 4,
 "nbformat_minor": 4
}
